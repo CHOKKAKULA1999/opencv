{
 "cells": [
  {
   "cell_type": "code",
   "execution_count": 31,
   "metadata": {},
   "outputs": [
    {
     "name": "stdout",
     "output_type": "stream",
     "text": [
      "Defaulting to user installation because normal site-packages is not writeable\n",
      "Requirement already satisfied: labelme in /home/geekbull/.local/lib/python3.8/site-packages (5.1.1)\n",
      "Requirement already satisfied: tensorflow in /home/geekbull/.local/lib/python3.8/site-packages (2.11.0)\n",
      "Requirement already satisfied: tensorflow-gpu in /home/geekbull/.local/lib/python3.8/site-packages (2.11.0)\n",
      "Requirement already satisfied: opencv-python in /home/geekbull/.local/lib/python3.8/site-packages (4.6.0.66)\n",
      "Requirement already satisfied: matplotlib in /home/geekbull/.local/lib/python3.8/site-packages (3.6.2)\n",
      "Requirement already satisfied: albumentations in /home/geekbull/.local/lib/python3.8/site-packages (1.3.0)\n",
      "Requirement already satisfied: PyQt5!=5.15.3,!=5.15.4 in /home/geekbull/.local/lib/python3.8/site-packages (from labelme) (5.15.7)\n",
      "Requirement already satisfied: natsort>=7.1.0 in /home/geekbull/.local/lib/python3.8/site-packages (from labelme) (8.2.0)\n",
      "Requirement already satisfied: Pillow>=2.8 in /usr/lib/python3/dist-packages (from labelme) (7.0.0)\n",
      "Requirement already satisfied: qtpy!=1.11.2 in /home/geekbull/.local/lib/python3.8/site-packages (from labelme) (2.3.0)\n",
      "Requirement already satisfied: PyYAML in /usr/lib/python3/dist-packages (from labelme) (5.3.1)\n",
      "Requirement already satisfied: numpy in /home/geekbull/.local/lib/python3.8/site-packages (from labelme) (1.23.5)\n",
      "Requirement already satisfied: termcolor in /home/geekbull/.local/lib/python3.8/site-packages (from labelme) (2.1.1)\n",
      "Requirement already satisfied: imgviz>=0.11 in /home/geekbull/.local/lib/python3.8/site-packages (from labelme) (1.6.2)\n",
      "Requirement already satisfied: protobuf<3.20,>=3.9.2 in /home/geekbull/.local/lib/python3.8/site-packages (from tensorflow) (3.19.6)\n",
      "Requirement already satisfied: absl-py>=1.0.0 in /home/geekbull/.local/lib/python3.8/site-packages (from tensorflow) (1.3.0)\n",
      "Requirement already satisfied: grpcio<2.0,>=1.24.3 in /home/geekbull/.local/lib/python3.8/site-packages (from tensorflow) (1.50.0)\n",
      "Requirement already satisfied: astunparse>=1.6.0 in /home/geekbull/.local/lib/python3.8/site-packages (from tensorflow) (1.6.3)\n",
      "Requirement already satisfied: gast<=0.4.0,>=0.2.1 in /home/geekbull/.local/lib/python3.8/site-packages (from tensorflow) (0.4.0)\n",
      "Requirement already satisfied: tensorflow-estimator<2.12,>=2.11.0 in /home/geekbull/.local/lib/python3.8/site-packages (from tensorflow) (2.11.0)\n",
      "Requirement already satisfied: flatbuffers>=2.0 in /home/geekbull/.local/lib/python3.8/site-packages (from tensorflow) (22.11.23)\n",
      "Requirement already satisfied: h5py>=2.9.0 in /home/geekbull/.local/lib/python3.8/site-packages (from tensorflow) (3.7.0)\n",
      "Requirement already satisfied: keras<2.12,>=2.11.0 in /home/geekbull/.local/lib/python3.8/site-packages (from tensorflow) (2.11.0)\n",
      "Requirement already satisfied: six>=1.12.0 in /usr/lib/python3/dist-packages (from tensorflow) (1.14.0)\n",
      "Requirement already satisfied: tensorboard<2.12,>=2.11 in /home/geekbull/.local/lib/python3.8/site-packages (from tensorflow) (2.11.0)\n",
      "Requirement already satisfied: libclang>=13.0.0 in /home/geekbull/.local/lib/python3.8/site-packages (from tensorflow) (14.0.6)\n",
      "Requirement already satisfied: opt-einsum>=2.3.2 in /home/geekbull/.local/lib/python3.8/site-packages (from tensorflow) (3.3.0)\n",
      "Requirement already satisfied: google-pasta>=0.1.1 in /home/geekbull/.local/lib/python3.8/site-packages (from tensorflow) (0.2.0)\n",
      "Requirement already satisfied: setuptools in /usr/lib/python3/dist-packages (from tensorflow) (45.2.0)\n",
      "Requirement already satisfied: wrapt>=1.11.0 in /home/geekbull/.local/lib/python3.8/site-packages (from tensorflow) (1.14.1)\n",
      "Requirement already satisfied: typing-extensions>=3.6.6 in /home/geekbull/.local/lib/python3.8/site-packages (from tensorflow) (4.4.0)\n",
      "Requirement already satisfied: tensorflow-io-gcs-filesystem>=0.23.1 in /home/geekbull/.local/lib/python3.8/site-packages (from tensorflow) (0.28.0)\n",
      "Requirement already satisfied: packaging in /home/geekbull/.local/lib/python3.8/site-packages (from tensorflow) (21.3)\n",
      "Requirement already satisfied: pyparsing>=2.2.1 in /home/geekbull/.local/lib/python3.8/site-packages (from matplotlib) (3.0.9)\n",
      "Requirement already satisfied: python-dateutil>=2.7 in /home/geekbull/.local/lib/python3.8/site-packages (from matplotlib) (2.8.2)\n",
      "Requirement already satisfied: contourpy>=1.0.1 in /home/geekbull/.local/lib/python3.8/site-packages (from matplotlib) (1.0.6)\n",
      "Requirement already satisfied: cycler>=0.10 in /home/geekbull/.local/lib/python3.8/site-packages (from matplotlib) (0.11.0)\n",
      "Requirement already satisfied: kiwisolver>=1.0.1 in /home/geekbull/.local/lib/python3.8/site-packages (from matplotlib) (1.4.4)\n",
      "Requirement already satisfied: fonttools>=4.22.0 in /home/geekbull/.local/lib/python3.8/site-packages (from matplotlib) (4.38.0)\n",
      "Requirement already satisfied: opencv-python-headless>=4.1.1 in /home/geekbull/.local/lib/python3.8/site-packages (from albumentations) (4.6.0.66)\n",
      "Requirement already satisfied: scipy in /home/geekbull/.local/lib/python3.8/site-packages (from albumentations) (1.9.3)\n",
      "Requirement already satisfied: qudida>=0.0.4 in /home/geekbull/.local/lib/python3.8/site-packages (from albumentations) (0.0.4)\n",
      "Requirement already satisfied: scikit-image>=0.16.1 in /home/geekbull/.local/lib/python3.8/site-packages (from albumentations) (0.19.3)\n",
      "Requirement already satisfied: wheel<1.0,>=0.23.0 in /usr/lib/python3/dist-packages (from astunparse>=1.6.0->tensorflow) (0.34.2)\n",
      "Requirement already satisfied: PyQt5-sip<13,>=12.11 in /home/geekbull/.local/lib/python3.8/site-packages (from PyQt5!=5.15.3,!=5.15.4->labelme) (12.11.0)\n",
      "Requirement already satisfied: PyQt5-Qt5>=5.15.0 in /home/geekbull/.local/lib/python3.8/site-packages (from PyQt5!=5.15.3,!=5.15.4->labelme) (5.15.2)\n",
      "Requirement already satisfied: scikit-learn>=0.19.1 in /home/geekbull/.local/lib/python3.8/site-packages (from qudida>=0.0.4->albumentations) (1.1.3)\n",
      "Requirement already satisfied: tifffile>=2019.7.26 in /home/geekbull/.local/lib/python3.8/site-packages (from scikit-image>=0.16.1->albumentations) (2022.10.10)\n",
      "Requirement already satisfied: imageio>=2.4.1 in /home/geekbull/.local/lib/python3.8/site-packages (from scikit-image>=0.16.1->albumentations) (2.23.0)\n",
      "Requirement already satisfied: networkx>=2.2 in /home/geekbull/.local/lib/python3.8/site-packages (from scikit-image>=0.16.1->albumentations) (2.8.8)\n",
      "Requirement already satisfied: PyWavelets>=1.1.1 in /home/geekbull/.local/lib/python3.8/site-packages (from scikit-image>=0.16.1->albumentations) (1.4.1)\n",
      "Requirement already satisfied: tensorboard-plugin-wit>=1.6.0 in /home/geekbull/.local/lib/python3.8/site-packages (from tensorboard<2.12,>=2.11->tensorflow) (1.8.1)\n",
      "Requirement already satisfied: google-auth<3,>=1.6.3 in /home/geekbull/.local/lib/python3.8/site-packages (from tensorboard<2.12,>=2.11->tensorflow) (2.14.1)\n",
      "Requirement already satisfied: requests<3,>=2.21.0 in /usr/lib/python3/dist-packages (from tensorboard<2.12,>=2.11->tensorflow) (2.22.0)\n",
      "Requirement already satisfied: tensorboard-data-server<0.7.0,>=0.6.0 in /home/geekbull/.local/lib/python3.8/site-packages (from tensorboard<2.12,>=2.11->tensorflow) (0.6.1)\n",
      "Requirement already satisfied: werkzeug>=1.0.1 in /home/geekbull/.local/lib/python3.8/site-packages (from tensorboard<2.12,>=2.11->tensorflow) (2.2.2)\n",
      "Requirement already satisfied: markdown>=2.6.8 in /home/geekbull/.local/lib/python3.8/site-packages (from tensorboard<2.12,>=2.11->tensorflow) (3.4.1)\n",
      "Requirement already satisfied: google-auth-oauthlib<0.5,>=0.4.1 in /home/geekbull/.local/lib/python3.8/site-packages (from tensorboard<2.12,>=2.11->tensorflow) (0.4.6)\n",
      "Requirement already satisfied: cachetools<6.0,>=2.0.0 in /home/geekbull/.local/lib/python3.8/site-packages (from google-auth<3,>=1.6.3->tensorboard<2.12,>=2.11->tensorflow) (5.2.0)\n",
      "Requirement already satisfied: pyasn1-modules>=0.2.1 in /home/geekbull/.local/lib/python3.8/site-packages (from google-auth<3,>=1.6.3->tensorboard<2.12,>=2.11->tensorflow) (0.2.8)\n",
      "Requirement already satisfied: rsa<5,>=3.1.4 in /home/geekbull/.local/lib/python3.8/site-packages (from google-auth<3,>=1.6.3->tensorboard<2.12,>=2.11->tensorflow) (4.9)\n",
      "Requirement already satisfied: requests-oauthlib>=0.7.0 in /home/geekbull/.local/lib/python3.8/site-packages (from google-auth-oauthlib<0.5,>=0.4.1->tensorboard<2.12,>=2.11->tensorflow) (1.3.1)\n"
     ]
    },
    {
     "name": "stdout",
     "output_type": "stream",
     "text": [
      "Collecting Pillow>=2.8\n",
      "  Downloading Pillow-9.3.0-cp38-cp38-manylinux_2_28_x86_64.whl (3.3 MB)\n",
      "\u001b[2K     \u001b[38;2;114;156;31m━━━━━━━━━━━━━━━━━━━━━━━━━━━━━━━━━━━━━━━━\u001b[0m \u001b[32m3.3/3.3 MB\u001b[0m \u001b[31m17.3 MB/s\u001b[0m eta \u001b[36m0:00:00\u001b[0mm eta \u001b[36m0:00:01\u001b[0m0:01\u001b[0m\n",
      "\u001b[?25hRequirement already satisfied: importlib-metadata>=4.4 in /home/geekbull/.local/lib/python3.8/site-packages (from markdown>=2.6.8->tensorboard<2.12,>=2.11->tensorflow) (5.0.0)\n",
      "Requirement already satisfied: joblib>=1.0.0 in /home/geekbull/.local/lib/python3.8/site-packages (from scikit-learn>=0.19.1->qudida>=0.0.4->albumentations) (1.2.0)\n",
      "Requirement already satisfied: threadpoolctl>=2.0.0 in /home/geekbull/.local/lib/python3.8/site-packages (from scikit-learn>=0.19.1->qudida>=0.0.4->albumentations) (3.1.0)\n",
      "Requirement already satisfied: MarkupSafe>=2.1.1 in /home/geekbull/.local/lib/python3.8/site-packages (from werkzeug>=1.0.1->tensorboard<2.12,>=2.11->tensorflow) (2.1.1)\n",
      "Requirement already satisfied: zipp>=0.5 in /home/geekbull/.local/lib/python3.8/site-packages (from importlib-metadata>=4.4->markdown>=2.6.8->tensorboard<2.12,>=2.11->tensorflow) (3.10.0)\n",
      "Requirement already satisfied: pyasn1<0.5.0,>=0.4.6 in /home/geekbull/.local/lib/python3.8/site-packages (from pyasn1-modules>=0.2.1->google-auth<3,>=1.6.3->tensorboard<2.12,>=2.11->tensorflow) (0.4.8)\n",
      "Requirement already satisfied: oauthlib>=3.0.0 in /usr/lib/python3/dist-packages (from requests-oauthlib>=0.7.0->google-auth-oauthlib<0.5,>=0.4.1->tensorboard<2.12,>=2.11->tensorflow) (3.1.0)\n",
      "Installing collected packages: Pillow\n",
      "Successfully installed Pillow-9.3.0\n"
     ]
    }
   ],
   "source": [
    "! pip install labelme tensorflow tensorflow-gpu opencv-python matplotlib albumentations"
   ]
  },
  {
   "cell_type": "code",
   "execution_count": 34,
   "metadata": {},
   "outputs": [],
   "source": [
    "import os               \n",
    "import time             \n",
    "import uuid \n",
    "import cv2\n",
    "import matplotlib.pyplot as plt \n",
    "import matplotlib.image as img"
   ]
  },
  {
   "cell_type": "code",
   "execution_count": 35,
   "metadata": {},
   "outputs": [],
   "source": [
    "IMAGES_PATH = os.path.join('/home/geekbull/Desktop/second-pratical-implementation/cv-project/','images')\n",
    "number_images = 30"
   ]
  },
  {
   "cell_type": "code",
   "execution_count": 37,
   "metadata": {},
   "outputs": [],
   "source": [
    "img =plt.imread(\"/home/geekbull/Desktop/second-pratical-implementation/cv-project/images/23a12d66-8074-11ed-aec6-9d1d686921aa.jpg\")"
   ]
  },
  {
   "cell_type": "code",
   "execution_count": 38,
   "metadata": {},
   "outputs": [
    {
     "data": {
      "text/plain": [
       "array([[[255, 255, 255],\n",
       "        [255, 255, 255],\n",
       "        [255, 255, 255],\n",
       "        ...,\n",
       "        [181, 174, 181],\n",
       "        [184, 172, 182],\n",
       "        [185, 173, 183]],\n",
       "\n",
       "       [[255, 255, 255],\n",
       "        [255, 255, 255],\n",
       "        [255, 255, 255],\n",
       "        ...,\n",
       "        [183, 173, 181],\n",
       "        [184, 172, 182],\n",
       "        [185, 173, 183]],\n",
       "\n",
       "       [[255, 255, 255],\n",
       "        [255, 255, 255],\n",
       "        [255, 255, 255],\n",
       "        ...,\n",
       "        [183, 173, 181],\n",
       "        [185, 174, 182],\n",
       "        [186, 173, 182]],\n",
       "\n",
       "       ...,\n",
       "\n",
       "       [[  0,   0,   0],\n",
       "        [  0,   0,   0],\n",
       "        [  0,   0,   0],\n",
       "        ...,\n",
       "        [194, 184, 195],\n",
       "        [195, 183, 195],\n",
       "        [195, 183, 195]],\n",
       "\n",
       "       [[  0,   0,   0],\n",
       "        [  0,   0,   0],\n",
       "        [  0,   0,   0],\n",
       "        ...,\n",
       "        [195, 184, 198],\n",
       "        [196, 184, 198],\n",
       "        [197, 183, 198]],\n",
       "\n",
       "       [[  0,   0,   0],\n",
       "        [  0,   0,   0],\n",
       "        [  0,   0,   0],\n",
       "        ...,\n",
       "        [195, 184, 198],\n",
       "        [197, 183, 198],\n",
       "        [197, 183, 198]]], dtype=uint8)"
      ]
     },
     "execution_count": 38,
     "metadata": {},
     "output_type": "execute_result"
    }
   ],
   "source": [
    "img"
   ]
  },
  {
   "cell_type": "code",
   "execution_count": 29,
   "metadata": {},
   "outputs": [
    {
     "name": "stdout",
     "output_type": "stream",
     "text": [
      "Collecting image 0\n",
      "/home/geekbull/Desktop/second-pratical-implementation/cv-project/images/da24871c-8075-11ed-aec6-9d1d686921aa.jpg\n",
      "Collecting image 1\n",
      "/home/geekbull/Desktop/second-pratical-implementation/cv-project/images/da24871d-8075-11ed-aec6-9d1d686921aa.jpg\n",
      "Collecting image 2\n",
      "/home/geekbull/Desktop/second-pratical-implementation/cv-project/images/da24871e-8075-11ed-aec6-9d1d686921aa.jpg\n",
      "Collecting image 3\n",
      "/home/geekbull/Desktop/second-pratical-implementation/cv-project/images/db0f7e3e-8075-11ed-aec6-9d1d686921aa.jpg\n",
      "Collecting image 4\n",
      "/home/geekbull/Desktop/second-pratical-implementation/cv-project/images/db0f7e3f-8075-11ed-aec6-9d1d686921aa.jpg\n",
      "Collecting image 5\n",
      "/home/geekbull/Desktop/second-pratical-implementation/cv-project/images/db0f7e40-8075-11ed-aec6-9d1d686921aa.jpg\n",
      "Collecting image 6\n",
      "/home/geekbull/Desktop/second-pratical-implementation/cv-project/images/db0f7e41-8075-11ed-aec6-9d1d686921aa.jpg\n",
      "Collecting image 7\n",
      "/home/geekbull/Desktop/second-pratical-implementation/cv-project/images/dc479476-8075-11ed-aec6-9d1d686921aa.jpg\n",
      "Collecting image 8\n",
      "/home/geekbull/Desktop/second-pratical-implementation/cv-project/images/dc479477-8075-11ed-aec6-9d1d686921aa.jpg\n",
      "Collecting image 9\n",
      "/home/geekbull/Desktop/second-pratical-implementation/cv-project/images/dc479478-8075-11ed-aec6-9d1d686921aa.jpg\n",
      "Collecting image 10\n",
      "/home/geekbull/Desktop/second-pratical-implementation/cv-project/images/dc479479-8075-11ed-aec6-9d1d686921aa.jpg\n",
      "Collecting image 11\n",
      "/home/geekbull/Desktop/second-pratical-implementation/cv-project/images/dd82d7e2-8075-11ed-aec6-9d1d686921aa.jpg\n",
      "Collecting image 12\n",
      "/home/geekbull/Desktop/second-pratical-implementation/cv-project/images/dd82d7e3-8075-11ed-aec6-9d1d686921aa.jpg\n",
      "Collecting image 13\n",
      "/home/geekbull/Desktop/second-pratical-implementation/cv-project/images/dd82d7e4-8075-11ed-aec6-9d1d686921aa.jpg\n",
      "Collecting image 14\n",
      "/home/geekbull/Desktop/second-pratical-implementation/cv-project/images/dd82d7e5-8075-11ed-aec6-9d1d686921aa.jpg\n",
      "Collecting image 15\n",
      "/home/geekbull/Desktop/second-pratical-implementation/cv-project/images/debbaa44-8075-11ed-aec6-9d1d686921aa.jpg\n",
      "Collecting image 16\n",
      "/home/geekbull/Desktop/second-pratical-implementation/cv-project/images/debbaa45-8075-11ed-aec6-9d1d686921aa.jpg\n",
      "Collecting image 17\n",
      "/home/geekbull/Desktop/second-pratical-implementation/cv-project/images/debbaa46-8075-11ed-aec6-9d1d686921aa.jpg\n",
      "Collecting image 18\n",
      "/home/geekbull/Desktop/second-pratical-implementation/cv-project/images/dfa64450-8075-11ed-aec6-9d1d686921aa.jpg\n",
      "Collecting image 19\n",
      "/home/geekbull/Desktop/second-pratical-implementation/cv-project/images/dfa64451-8075-11ed-aec6-9d1d686921aa.jpg\n",
      "Collecting image 20\n",
      "/home/geekbull/Desktop/second-pratical-implementation/cv-project/images/dfa64452-8075-11ed-aec6-9d1d686921aa.jpg\n",
      "Collecting image 21\n",
      "/home/geekbull/Desktop/second-pratical-implementation/cv-project/images/dfa64453-8075-11ed-aec6-9d1d686921aa.jpg\n",
      "Collecting image 22\n",
      "/home/geekbull/Desktop/second-pratical-implementation/cv-project/images/e0e03a24-8075-11ed-aec6-9d1d686921aa.jpg\n",
      "Collecting image 23\n",
      "/home/geekbull/Desktop/second-pratical-implementation/cv-project/images/e0e03a25-8075-11ed-aec6-9d1d686921aa.jpg\n",
      "Collecting image 24\n",
      "/home/geekbull/Desktop/second-pratical-implementation/cv-project/images/e0e03a26-8075-11ed-aec6-9d1d686921aa.jpg\n",
      "Collecting image 25\n",
      "/home/geekbull/Desktop/second-pratical-implementation/cv-project/images/e0e03a27-8075-11ed-aec6-9d1d686921aa.jpg\n",
      "Collecting image 26\n",
      "/home/geekbull/Desktop/second-pratical-implementation/cv-project/images/e21d1eb6-8075-11ed-aec6-9d1d686921aa.jpg\n",
      "Collecting image 27\n",
      "/home/geekbull/Desktop/second-pratical-implementation/cv-project/images/e21d1eb7-8075-11ed-aec6-9d1d686921aa.jpg\n",
      "Collecting image 28\n",
      "/home/geekbull/Desktop/second-pratical-implementation/cv-project/images/e21d1eb8-8075-11ed-aec6-9d1d686921aa.jpg\n",
      "Collecting image 29\n",
      "/home/geekbull/Desktop/second-pratical-implementation/cv-project/images/e21d1eb9-8075-11ed-aec6-9d1d686921aa.jpg\n"
     ]
    }
   ],
   "source": [
    "#object intilisation\n",
    "cap = cv2.VideoCapture(0)\n",
    "\n",
    "#start of for loop to get 30 images \n",
    "for imgnum in range(number_images):\n",
    "    print('Collecting image {}'.format(imgnum)) \n",
    "    ret, frame = cap.read()               \n",
    "    imgname = os.path.join(IMAGES_PATH,f'{str(uuid.uuid1())}.jpg') # join the unquieid and path \n",
    "    print(imgname)\n",
    "    \n",
    "    #read or taking the images from webcam \n",
    "    cv2.imwrite(imgname, frame)\n",
    "    \n",
    "    #show to screen \n",
    "    cv2.imshow('frame', frame)\n",
    "    \n",
    "    #sleep time for half sec\n",
    "    time.sleep(0.5)\n",
    "    \n",
    "    # \n",
    "    if cv2.waitKey(1) & 0xFF == ord('q'):\n",
    "        break\n",
    "cap.release()\n",
    "cv2.destroyAllWindows()"
   ]
  },
  {
   "cell_type": "markdown",
   "metadata": {},
   "source": [
    "# annotate images with label me "
   ]
  },
  {
   "cell_type": "code",
   "execution_count": 39,
   "metadata": {},
   "outputs": [
    {
     "name": "stdout",
     "output_type": "stream",
     "text": [
      "QObject::moveToThread: Current thread (0x1141c60) is not the object's thread (0x18ff290).\r\n",
      "Cannot move to target thread (0x1141c60)\r\n",
      "\r\n",
      "qt.qpa.plugin: Could not load the Qt platform plugin \"xcb\" in \"/home/geekbull/.local/lib/python3.8/site-packages/cv2/qt/plugins\" even though it was found.\r\n",
      "This application failed to start because no Qt platform plugin could be initialized. Reinstalling the application may fix this problem.\r\n",
      "\r\n",
      "Available platform plugins are: xcb, eglfs, linuxfb, minimal, minimalegl, offscreen, vnc, wayland-egl, wayland, wayland-xcomposite-egl, wayland-xcomposite-glx, webgl.\r\n",
      "\r\n"
     ]
    }
   ],
   "source": [
    "!labelme"
   ]
  },
  {
   "cell_type": "code",
   "execution_count": null,
   "metadata": {},
   "outputs": [],
   "source": []
  }
 ],
 "metadata": {
  "kernelspec": {
   "display_name": "Python 3 (ipykernel)",
   "language": "python",
   "name": "python3"
  },
  "language_info": {
   "codemirror_mode": {
    "name": "ipython",
    "version": 3
   },
   "file_extension": ".py",
   "mimetype": "text/x-python",
   "name": "python",
   "nbconvert_exporter": "python",
   "pygments_lexer": "ipython3",
   "version": "3.8.10"
  },
  "vscode": {
   "interpreter": {
    "hash": "916dbcbb3f70747c44a77c7bcd40155683ae19c65e1c03b4aa3499c5328201f1"
   }
  }
 },
 "nbformat": 4,
 "nbformat_minor": 2
}
